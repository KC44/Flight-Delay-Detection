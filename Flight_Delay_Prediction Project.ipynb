{
 "cells": [
  {
   "cell_type": "markdown",
   "metadata": {},
   "source": [
    "# FLIGHT DELAY PREDICTION"
   ]
  },
  {
   "cell_type": "markdown",
   "metadata": {},
   "source": [
    "# 1.Data Collection"
   ]
  },
  {
   "cell_type": "markdown",
   "metadata": {},
   "source": [
    "# 2.Data Preprocessing"
   ]
  },
  {
   "cell_type": "markdown",
   "metadata": {},
   "source": [
    " #### Importing the libraries"
   ]
  },
  {
   "cell_type": "code",
   "execution_count": 1,
   "metadata": {},
   "outputs": [],
   "source": [
    "import numpy as np\n",
    "import pandas as pd\n",
    "import matplotlib.pyplot as plt\n",
    "import seaborn as sns"
   ]
  },
  {
   "cell_type": "markdown",
   "metadata": {},
   "source": [
    " #### Importing the dataset"
   ]
  },
  {
   "cell_type": "code",
   "execution_count": 2,
   "metadata": {},
   "outputs": [],
   "source": [
    "dataset=pd.read_csv(r\"flightdata.csv\")"
   ]
  },
  {
   "cell_type": "code",
   "execution_count": 3,
   "metadata": {
    "scrolled": true
   },
   "outputs": [
    {
     "data": {
      "text/html": [
       "<div>\n",
       "<style scoped>\n",
       "    .dataframe tbody tr th:only-of-type {\n",
       "        vertical-align: middle;\n",
       "    }\n",
       "\n",
       "    .dataframe tbody tr th {\n",
       "        vertical-align: top;\n",
       "    }\n",
       "\n",
       "    .dataframe thead th {\n",
       "        text-align: right;\n",
       "    }\n",
       "</style>\n",
       "<table border=\"1\" class=\"dataframe\">\n",
       "  <thead>\n",
       "    <tr style=\"text-align: right;\">\n",
       "      <th></th>\n",
       "      <th>YEAR</th>\n",
       "      <th>MONTH</th>\n",
       "      <th>DAY_OF_MONTH</th>\n",
       "      <th>DAY_OF_WEEK</th>\n",
       "      <th>FLIGHT_NUM</th>\n",
       "      <th>ORIGIN</th>\n",
       "      <th>DEST</th>\n",
       "      <th>SCHEDULED_DEP_TIME</th>\n",
       "      <th>ACTUAL_DEP_TIME</th>\n",
       "      <th>DEP_DELAY</th>\n",
       "      <th>SCHEDULED_ARR_TIME</th>\n",
       "      <th>ACTUAL_ARR_TIME</th>\n",
       "      <th>DISTANCE</th>\n",
       "      <th>ARR_DELAY</th>\n",
       "      <th>DELAY</th>\n",
       "    </tr>\n",
       "  </thead>\n",
       "  <tbody>\n",
       "    <tr>\n",
       "      <th>0</th>\n",
       "      <td>2016</td>\n",
       "      <td>1</td>\n",
       "      <td>1</td>\n",
       "      <td>5</td>\n",
       "      <td>1399</td>\n",
       "      <td>ATL</td>\n",
       "      <td>SEA</td>\n",
       "      <td>1905</td>\n",
       "      <td>1907.0</td>\n",
       "      <td>2.0</td>\n",
       "      <td>2143</td>\n",
       "      <td>2102.0</td>\n",
       "      <td>2182</td>\n",
       "      <td>-41.0</td>\n",
       "      <td>NO</td>\n",
       "    </tr>\n",
       "    <tr>\n",
       "      <th>1</th>\n",
       "      <td>2016</td>\n",
       "      <td>1</td>\n",
       "      <td>1</td>\n",
       "      <td>5</td>\n",
       "      <td>1476</td>\n",
       "      <td>DTW</td>\n",
       "      <td>MSP</td>\n",
       "      <td>1345</td>\n",
       "      <td>1344.0</td>\n",
       "      <td>-1.0</td>\n",
       "      <td>1435</td>\n",
       "      <td>1439.0</td>\n",
       "      <td>528</td>\n",
       "      <td>4.0</td>\n",
       "      <td>NO</td>\n",
       "    </tr>\n",
       "    <tr>\n",
       "      <th>2</th>\n",
       "      <td>2016</td>\n",
       "      <td>1</td>\n",
       "      <td>1</td>\n",
       "      <td>5</td>\n",
       "      <td>1597</td>\n",
       "      <td>ATL</td>\n",
       "      <td>SEA</td>\n",
       "      <td>940</td>\n",
       "      <td>942.0</td>\n",
       "      <td>2.0</td>\n",
       "      <td>1215</td>\n",
       "      <td>1142.0</td>\n",
       "      <td>2182</td>\n",
       "      <td>-33.0</td>\n",
       "      <td>NO</td>\n",
       "    </tr>\n",
       "    <tr>\n",
       "      <th>3</th>\n",
       "      <td>2016</td>\n",
       "      <td>1</td>\n",
       "      <td>1</td>\n",
       "      <td>5</td>\n",
       "      <td>1768</td>\n",
       "      <td>SEA</td>\n",
       "      <td>MSP</td>\n",
       "      <td>819</td>\n",
       "      <td>820.0</td>\n",
       "      <td>1.0</td>\n",
       "      <td>1335</td>\n",
       "      <td>1345.0</td>\n",
       "      <td>1399</td>\n",
       "      <td>10.0</td>\n",
       "      <td>NO</td>\n",
       "    </tr>\n",
       "    <tr>\n",
       "      <th>4</th>\n",
       "      <td>2016</td>\n",
       "      <td>1</td>\n",
       "      <td>1</td>\n",
       "      <td>5</td>\n",
       "      <td>1823</td>\n",
       "      <td>SEA</td>\n",
       "      <td>DTW</td>\n",
       "      <td>2300</td>\n",
       "      <td>2256.0</td>\n",
       "      <td>-4.0</td>\n",
       "      <td>607</td>\n",
       "      <td>615.0</td>\n",
       "      <td>1927</td>\n",
       "      <td>8.0</td>\n",
       "      <td>NO</td>\n",
       "    </tr>\n",
       "  </tbody>\n",
       "</table>\n",
       "</div>"
      ],
      "text/plain": [
       "   YEAR  MONTH  DAY_OF_MONTH  DAY_OF_WEEK  FLIGHT_NUM ORIGIN DEST  \\\n",
       "0  2016      1             1            5        1399    ATL  SEA   \n",
       "1  2016      1             1            5        1476    DTW  MSP   \n",
       "2  2016      1             1            5        1597    ATL  SEA   \n",
       "3  2016      1             1            5        1768    SEA  MSP   \n",
       "4  2016      1             1            5        1823    SEA  DTW   \n",
       "\n",
       "   SCHEDULED_DEP_TIME  ACTUAL_DEP_TIME  DEP_DELAY  SCHEDULED_ARR_TIME  \\\n",
       "0                1905           1907.0        2.0                2143   \n",
       "1                1345           1344.0       -1.0                1435   \n",
       "2                 940            942.0        2.0                1215   \n",
       "3                 819            820.0        1.0                1335   \n",
       "4                2300           2256.0       -4.0                 607   \n",
       "\n",
       "   ACTUAL_ARR_TIME  DISTANCE  ARR_DELAY DELAY  \n",
       "0           2102.0      2182      -41.0    NO  \n",
       "1           1439.0       528        4.0    NO  \n",
       "2           1142.0      2182      -33.0    NO  \n",
       "3           1345.0      1399       10.0    NO  \n",
       "4            615.0      1927        8.0    NO  "
      ]
     },
     "execution_count": 3,
     "metadata": {},
     "output_type": "execute_result"
    }
   ],
   "source": [
    "dataset.head()"
   ]
  },
  {
   "cell_type": "markdown",
   "metadata": {},
   "source": [
    "#### Checking Correlation"
   ]
  },
  {
   "cell_type": "code",
   "execution_count": 4,
   "metadata": {},
   "outputs": [
    {
     "data": {
      "text/html": [
       "<div>\n",
       "<style scoped>\n",
       "    .dataframe tbody tr th:only-of-type {\n",
       "        vertical-align: middle;\n",
       "    }\n",
       "\n",
       "    .dataframe tbody tr th {\n",
       "        vertical-align: top;\n",
       "    }\n",
       "\n",
       "    .dataframe thead th {\n",
       "        text-align: right;\n",
       "    }\n",
       "</style>\n",
       "<table border=\"1\" class=\"dataframe\">\n",
       "  <thead>\n",
       "    <tr style=\"text-align: right;\">\n",
       "      <th></th>\n",
       "      <th>YEAR</th>\n",
       "      <th>MONTH</th>\n",
       "      <th>DAY_OF_MONTH</th>\n",
       "      <th>DAY_OF_WEEK</th>\n",
       "      <th>FLIGHT_NUM</th>\n",
       "      <th>SCHEDULED_DEP_TIME</th>\n",
       "      <th>ACTUAL_DEP_TIME</th>\n",
       "      <th>DEP_DELAY</th>\n",
       "      <th>SCHEDULED_ARR_TIME</th>\n",
       "      <th>ACTUAL_ARR_TIME</th>\n",
       "      <th>DISTANCE</th>\n",
       "      <th>ARR_DELAY</th>\n",
       "    </tr>\n",
       "  </thead>\n",
       "  <tbody>\n",
       "    <tr>\n",
       "      <th>YEAR</th>\n",
       "      <td>NaN</td>\n",
       "      <td>NaN</td>\n",
       "      <td>NaN</td>\n",
       "      <td>NaN</td>\n",
       "      <td>NaN</td>\n",
       "      <td>NaN</td>\n",
       "      <td>NaN</td>\n",
       "      <td>NaN</td>\n",
       "      <td>NaN</td>\n",
       "      <td>NaN</td>\n",
       "      <td>NaN</td>\n",
       "      <td>NaN</td>\n",
       "    </tr>\n",
       "    <tr>\n",
       "      <th>MONTH</th>\n",
       "      <td>NaN</td>\n",
       "      <td>1.000000</td>\n",
       "      <td>0.003095</td>\n",
       "      <td>-0.005027</td>\n",
       "      <td>-0.066573</td>\n",
       "      <td>0.021989</td>\n",
       "      <td>0.022717</td>\n",
       "      <td>0.014460</td>\n",
       "      <td>0.028657</td>\n",
       "      <td>0.019168</td>\n",
       "      <td>0.028921</td>\n",
       "      <td>0.018201</td>\n",
       "    </tr>\n",
       "    <tr>\n",
       "      <th>DAY_OF_MONTH</th>\n",
       "      <td>NaN</td>\n",
       "      <td>0.003095</td>\n",
       "      <td>1.000000</td>\n",
       "      <td>0.010415</td>\n",
       "      <td>-0.001812</td>\n",
       "      <td>0.009126</td>\n",
       "      <td>0.007515</td>\n",
       "      <td>-0.020573</td>\n",
       "      <td>0.000857</td>\n",
       "      <td>-0.001956</td>\n",
       "      <td>0.000320</td>\n",
       "      <td>-0.022221</td>\n",
       "    </tr>\n",
       "    <tr>\n",
       "      <th>DAY_OF_WEEK</th>\n",
       "      <td>NaN</td>\n",
       "      <td>-0.005027</td>\n",
       "      <td>0.010415</td>\n",
       "      <td>1.000000</td>\n",
       "      <td>-0.004133</td>\n",
       "      <td>0.005299</td>\n",
       "      <td>0.003021</td>\n",
       "      <td>-0.003005</td>\n",
       "      <td>0.012490</td>\n",
       "      <td>0.003068</td>\n",
       "      <td>0.017456</td>\n",
       "      <td>-0.005965</td>\n",
       "    </tr>\n",
       "    <tr>\n",
       "      <th>FLIGHT_NUM</th>\n",
       "      <td>NaN</td>\n",
       "      <td>-0.066573</td>\n",
       "      <td>-0.001812</td>\n",
       "      <td>-0.004133</td>\n",
       "      <td>1.000000</td>\n",
       "      <td>-0.036180</td>\n",
       "      <td>-0.043164</td>\n",
       "      <td>-0.017794</td>\n",
       "      <td>-0.081598</td>\n",
       "      <td>-0.078940</td>\n",
       "      <td>0.089529</td>\n",
       "      <td>-0.011054</td>\n",
       "    </tr>\n",
       "    <tr>\n",
       "      <th>SCHEDULED_DEP_TIME</th>\n",
       "      <td>NaN</td>\n",
       "      <td>0.021989</td>\n",
       "      <td>0.009126</td>\n",
       "      <td>0.005299</td>\n",
       "      <td>-0.036180</td>\n",
       "      <td>1.000000</td>\n",
       "      <td>0.969636</td>\n",
       "      <td>0.065472</td>\n",
       "      <td>0.559401</td>\n",
       "      <td>0.540363</td>\n",
       "      <td>-0.032432</td>\n",
       "      <td>0.050107</td>\n",
       "    </tr>\n",
       "    <tr>\n",
       "      <th>ACTUAL_DEP_TIME</th>\n",
       "      <td>NaN</td>\n",
       "      <td>0.022717</td>\n",
       "      <td>0.007515</td>\n",
       "      <td>0.003021</td>\n",
       "      <td>-0.043164</td>\n",
       "      <td>0.969636</td>\n",
       "      <td>1.000000</td>\n",
       "      <td>0.132455</td>\n",
       "      <td>0.566615</td>\n",
       "      <td>0.554034</td>\n",
       "      <td>-0.039738</td>\n",
       "      <td>0.115019</td>\n",
       "    </tr>\n",
       "    <tr>\n",
       "      <th>DEP_DELAY</th>\n",
       "      <td>NaN</td>\n",
       "      <td>0.014460</td>\n",
       "      <td>-0.020573</td>\n",
       "      <td>-0.003005</td>\n",
       "      <td>-0.017794</td>\n",
       "      <td>0.065472</td>\n",
       "      <td>0.132455</td>\n",
       "      <td>1.000000</td>\n",
       "      <td>0.070261</td>\n",
       "      <td>-0.016563</td>\n",
       "      <td>-0.001394</td>\n",
       "      <td>0.935268</td>\n",
       "    </tr>\n",
       "    <tr>\n",
       "      <th>SCHEDULED_ARR_TIME</th>\n",
       "      <td>NaN</td>\n",
       "      <td>0.028657</td>\n",
       "      <td>0.000857</td>\n",
       "      <td>0.012490</td>\n",
       "      <td>-0.081598</td>\n",
       "      <td>0.559401</td>\n",
       "      <td>0.566615</td>\n",
       "      <td>0.070261</td>\n",
       "      <td>1.000000</td>\n",
       "      <td>0.844139</td>\n",
       "      <td>0.053558</td>\n",
       "      <td>0.051419</td>\n",
       "    </tr>\n",
       "    <tr>\n",
       "      <th>ACTUAL_ARR_TIME</th>\n",
       "      <td>NaN</td>\n",
       "      <td>0.019168</td>\n",
       "      <td>-0.001956</td>\n",
       "      <td>0.003068</td>\n",
       "      <td>-0.078940</td>\n",
       "      <td>0.540363</td>\n",
       "      <td>0.554034</td>\n",
       "      <td>-0.016563</td>\n",
       "      <td>0.844139</td>\n",
       "      <td>1.000000</td>\n",
       "      <td>0.038274</td>\n",
       "      <td>-0.021385</td>\n",
       "    </tr>\n",
       "    <tr>\n",
       "      <th>DISTANCE</th>\n",
       "      <td>NaN</td>\n",
       "      <td>0.028921</td>\n",
       "      <td>0.000320</td>\n",
       "      <td>0.017456</td>\n",
       "      <td>0.089529</td>\n",
       "      <td>-0.032432</td>\n",
       "      <td>-0.039738</td>\n",
       "      <td>-0.001394</td>\n",
       "      <td>0.053558</td>\n",
       "      <td>0.038274</td>\n",
       "      <td>1.000000</td>\n",
       "      <td>-0.037520</td>\n",
       "    </tr>\n",
       "    <tr>\n",
       "      <th>ARR_DELAY</th>\n",
       "      <td>NaN</td>\n",
       "      <td>0.018201</td>\n",
       "      <td>-0.022221</td>\n",
       "      <td>-0.005965</td>\n",
       "      <td>-0.011054</td>\n",
       "      <td>0.050107</td>\n",
       "      <td>0.115019</td>\n",
       "      <td>0.935268</td>\n",
       "      <td>0.051419</td>\n",
       "      <td>-0.021385</td>\n",
       "      <td>-0.037520</td>\n",
       "      <td>1.000000</td>\n",
       "    </tr>\n",
       "  </tbody>\n",
       "</table>\n",
       "</div>"
      ],
      "text/plain": [
       "                    YEAR     MONTH  DAY_OF_MONTH  DAY_OF_WEEK  FLIGHT_NUM  \\\n",
       "YEAR                 NaN       NaN           NaN          NaN         NaN   \n",
       "MONTH                NaN  1.000000      0.003095    -0.005027   -0.066573   \n",
       "DAY_OF_MONTH         NaN  0.003095      1.000000     0.010415   -0.001812   \n",
       "DAY_OF_WEEK          NaN -0.005027      0.010415     1.000000   -0.004133   \n",
       "FLIGHT_NUM           NaN -0.066573     -0.001812    -0.004133    1.000000   \n",
       "SCHEDULED_DEP_TIME   NaN  0.021989      0.009126     0.005299   -0.036180   \n",
       "ACTUAL_DEP_TIME      NaN  0.022717      0.007515     0.003021   -0.043164   \n",
       "DEP_DELAY            NaN  0.014460     -0.020573    -0.003005   -0.017794   \n",
       "SCHEDULED_ARR_TIME   NaN  0.028657      0.000857     0.012490   -0.081598   \n",
       "ACTUAL_ARR_TIME      NaN  0.019168     -0.001956     0.003068   -0.078940   \n",
       "DISTANCE             NaN  0.028921      0.000320     0.017456    0.089529   \n",
       "ARR_DELAY            NaN  0.018201     -0.022221    -0.005965   -0.011054   \n",
       "\n",
       "                    SCHEDULED_DEP_TIME  ACTUAL_DEP_TIME  DEP_DELAY  \\\n",
       "YEAR                               NaN              NaN        NaN   \n",
       "MONTH                         0.021989         0.022717   0.014460   \n",
       "DAY_OF_MONTH                  0.009126         0.007515  -0.020573   \n",
       "DAY_OF_WEEK                   0.005299         0.003021  -0.003005   \n",
       "FLIGHT_NUM                   -0.036180        -0.043164  -0.017794   \n",
       "SCHEDULED_DEP_TIME            1.000000         0.969636   0.065472   \n",
       "ACTUAL_DEP_TIME               0.969636         1.000000   0.132455   \n",
       "DEP_DELAY                     0.065472         0.132455   1.000000   \n",
       "SCHEDULED_ARR_TIME            0.559401         0.566615   0.070261   \n",
       "ACTUAL_ARR_TIME               0.540363         0.554034  -0.016563   \n",
       "DISTANCE                     -0.032432        -0.039738  -0.001394   \n",
       "ARR_DELAY                     0.050107         0.115019   0.935268   \n",
       "\n",
       "                    SCHEDULED_ARR_TIME  ACTUAL_ARR_TIME  DISTANCE  ARR_DELAY  \n",
       "YEAR                               NaN              NaN       NaN        NaN  \n",
       "MONTH                         0.028657         0.019168  0.028921   0.018201  \n",
       "DAY_OF_MONTH                  0.000857        -0.001956  0.000320  -0.022221  \n",
       "DAY_OF_WEEK                   0.012490         0.003068  0.017456  -0.005965  \n",
       "FLIGHT_NUM                   -0.081598        -0.078940  0.089529  -0.011054  \n",
       "SCHEDULED_DEP_TIME            0.559401         0.540363 -0.032432   0.050107  \n",
       "ACTUAL_DEP_TIME               0.566615         0.554034 -0.039738   0.115019  \n",
       "DEP_DELAY                     0.070261        -0.016563 -0.001394   0.935268  \n",
       "SCHEDULED_ARR_TIME            1.000000         0.844139  0.053558   0.051419  \n",
       "ACTUAL_ARR_TIME               0.844139         1.000000  0.038274  -0.021385  \n",
       "DISTANCE                      0.053558         0.038274  1.000000  -0.037520  \n",
       "ARR_DELAY                     0.051419        -0.021385 -0.037520   1.000000  "
      ]
     },
     "execution_count": 4,
     "metadata": {},
     "output_type": "execute_result"
    }
   ],
   "source": [
    "dataset.corr()"
   ]
  },
  {
   "cell_type": "markdown",
   "metadata": {},
   "source": [
    "#### Data Visualization"
   ]
  },
  {
   "cell_type": "code",
   "execution_count": 5,
   "metadata": {},
   "outputs": [
    {
     "data": {
      "text/plain": [
       "<matplotlib.axes._subplots.AxesSubplot at 0x253de18d1c8>"
      ]
     },
     "execution_count": 5,
     "metadata": {},
     "output_type": "execute_result"
    },
    {
     "data": {
      "image/png": "[encoded data removed]",
      "text/plain": [
       "<Figure size 432x288 with 2 Axes>"
      ]
     },
     "metadata": {
      "needs_background": "light"
     },
     "output_type": "display_data"
    }
   ],
   "source": [
    "sns.heatmap(dataset.corr(),linewidths=0.1,annot=True)"
   ]
  },
  {
   "cell_type": "code",
   "execution_count": 6,
   "metadata": {},
   "outputs": [
    {
     "data": {
      "image/png": "[encoded data removed]",
      "text/plain": [
       "<Figure size 1440x1080 with 12 Axes>"
      ]
     },
     "metadata": {
      "needs_background": "light"
     },
     "output_type": "display_data"
    }
   ],
   "source": [
    "dataset.hist(bins=50, figsize=(20,15))\n",
    "plt.show()"
   ]
  },
  {
   "cell_type": "code",
   "execution_count": 7,
   "metadata": {
    "scrolled": false
   },
   "outputs": [
    {
     "data": {
      "text/plain": [
       "Text(0.5, 1.0, 'Arrival Delays per Month')"
      ]
     },
     "execution_count": 7,
     "metadata": {},
     "output_type": "execute_result"
    },
    {
     "data": {
      "image/png": "[encoded data removed]",
      "text/plain": [
       "<Figure size 432x288 with 1 Axes>"
      ]
     },
     "metadata": {
      "needs_background": "light"
     },
     "output_type": "display_data"
    }
   ],
   "source": [
    "sns.boxplot(dataset[\"MONTH\"],dataset[\"ARR_DELAY\"])\n",
    "plt.title(\"Arrival Delays per Month\")"
   ]
  },
  {
   "cell_type": "code",
   "execution_count": 8,
   "metadata": {},
   "outputs": [
    {
     "data": {
      "text/plain": [
       "<matplotlib.axes._subplots.AxesSubplot at 0x253e08c9bc8>"
      ]
     },
     "execution_count": 8,
     "metadata": {},
     "output_type": "execute_result"
    },
    {
     "data": {
      "image/png": "[encoded data removed]",
      "text/plain": [
       "<Figure size 432x288 with 1 Axes>"
      ]
     },
     "metadata": {
      "needs_background": "light"
     },
     "output_type": "display_data"
    }
   ],
   "source": [
    "sns.barplot(dataset[\"DELAY\"],dataset[\"MONTH\"])"
   ]
  },
  {
   "cell_type": "code",
   "execution_count": 9,
   "metadata": {},
   "outputs": [
    {
     "data": {
      "text/plain": [
       "Text(0.5, 1.0, 'Density Distributions of Arrival Delays')"
      ]
     },
     "execution_count": 9,
     "metadata": {},
     "output_type": "execute_result"
    },
    {
     "data": {
      "image/png": "[encoded data removed]",
      "text/plain": [
       "<Figure size 432x288 with 1 Axes>"
      ]
     },
     "metadata": {
      "needs_background": "light"
     },
     "output_type": "display_data"
    }
   ],
   "source": [
    "sns.distplot(dataset[\"ARR_DELAY\"]) \n",
    "plt.title(\"Density Distributions of Arrival Delays\")"
   ]
  },
  {
   "cell_type": "markdown",
   "metadata": {},
   "source": [
    "#### Taking care of missing data"
   ]
  },
  {
   "cell_type": "code",
   "execution_count": 10,
   "metadata": {},
   "outputs": [
    {
     "data": {
      "text/plain": [
       "YEAR                  False\n",
       "MONTH                 False\n",
       "DAY_OF_MONTH          False\n",
       "DAY_OF_WEEK           False\n",
       "FLIGHT_NUM            False\n",
       "ORIGIN                False\n",
       "DEST                  False\n",
       "SCHEDULED_DEP_TIME    False\n",
       "ACTUAL_DEP_TIME        True\n",
       "DEP_DELAY              True\n",
       "SCHEDULED_ARR_TIME    False\n",
       "ACTUAL_ARR_TIME        True\n",
       "DISTANCE              False\n",
       "ARR_DELAY              True\n",
       "DELAY                 False\n",
       "dtype: bool"
      ]
     },
     "execution_count": 10,
     "metadata": {},
     "output_type": "execute_result"
    }
   ],
   "source": [
    "dataset.isnull().any()"
   ]
  },
  {
   "cell_type": "code",
   "execution_count": 11,
   "metadata": {},
   "outputs": [],
   "source": [
    "dataset.drop(\"DEP_DELAY\",axis=1,inplace=True)"
   ]
  },
  {
   "cell_type": "code",
   "execution_count": 12,
   "metadata": {},
   "outputs": [],
   "source": [
    "dataset[\"ACTUAL_DEP_TIME\"].fillna(dataset[\"ACTUAL_DEP_TIME\"].mode()[0],inplace=True)\n",
    "dataset[\"ACTUAL_ARR_TIME\"].fillna(dataset[\"ACTUAL_ARR_TIME\"].median(),inplace=True)\n",
    "dataset[\"ARR_DELAY\"].fillna(dataset[\"ARR_DELAY\"].mean(),inplace=True)"
   ]
  },
  {
   "cell_type": "code",
   "execution_count": 13,
   "metadata": {},
   "outputs": [
    {
     "data": {
      "text/plain": [
       "YEAR                  False\n",
       "MONTH                 False\n",
       "DAY_OF_MONTH          False\n",
       "DAY_OF_WEEK           False\n",
       "FLIGHT_NUM            False\n",
       "ORIGIN                False\n",
       "DEST                  False\n",
       "SCHEDULED_DEP_TIME    False\n",
       "ACTUAL_DEP_TIME       False\n",
       "SCHEDULED_ARR_TIME    False\n",
       "ACTUAL_ARR_TIME       False\n",
       "DISTANCE              False\n",
       "ARR_DELAY             False\n",
       "DELAY                 False\n",
       "dtype: bool"
      ]
     },
     "execution_count": 13,
     "metadata": {},
     "output_type": "execute_result"
    }
   ],
   "source": [
    "dataset.isnull().any()"
   ]
  },
  {
   "cell_type": "markdown",
   "metadata": {},
   "source": [
    "#### Label Encoding"
   ]
  },
  {
   "cell_type": "code",
   "execution_count": 14,
   "metadata": {},
   "outputs": [],
   "source": [
    "from sklearn.preprocessing import LabelEncoder\n",
    "le=LabelEncoder()\n",
    "dataset[\"ORIGIN\"]=le.fit_transform(dataset[\"ORIGIN\"])\n",
    "dataset[\"DEST\"]=le.fit_transform(dataset[\"DEST\"])\n",
    "dataset[\"DELAY\"]=le.fit_transform(dataset[\"DELAY\"])"
   ]
  },
  {
   "cell_type": "code",
   "execution_count": 15,
   "metadata": {},
   "outputs": [
    {
     "data": {
      "text/plain": [
       "array([0, 1, 4, 3, 2])"
      ]
     },
     "execution_count": 15,
     "metadata": {},
     "output_type": "execute_result"
    }
   ],
   "source": [
    "dataset[\"ORIGIN\"].unique()"
   ]
  },
  {
   "cell_type": "code",
   "execution_count": 16,
   "metadata": {},
   "outputs": [
    {
     "data": {
      "text/plain": [
       "array([4, 3, 1, 0, 2])"
      ]
     },
     "execution_count": 16,
     "metadata": {},
     "output_type": "execute_result"
    }
   ],
   "source": [
    "dataset[\"DEST\"].unique()"
   ]
  },
  {
   "cell_type": "code",
   "execution_count": 17,
   "metadata": {},
   "outputs": [
    {
     "data": {
      "text/plain": [
       "array([0, 1])"
      ]
     },
     "execution_count": 17,
     "metadata": {},
     "output_type": "execute_result"
    }
   ],
   "source": [
    "dataset[\"DELAY\"].unique()"
   ]
  },
  {
   "cell_type": "code",
   "execution_count": 18,
   "metadata": {},
   "outputs": [
    {
     "data": {
      "text/html": [
       "<div>\n",
       "<style scoped>\n",
       "    .dataframe tbody tr th:only-of-type {\n",
       "        vertical-align: middle;\n",
       "    }\n",
       "\n",
       "    .dataframe tbody tr th {\n",
       "        vertical-align: top;\n",
       "    }\n",
       "\n",
       "    .dataframe thead th {\n",
       "        text-align: right;\n",
       "    }\n",
       "</style>\n",
       "<table border=\"1\" class=\"dataframe\">\n",
       "  <thead>\n",
       "    <tr style=\"text-align: right;\">\n",
       "      <th></th>\n",
       "      <th>YEAR</th>\n",
       "      <th>MONTH</th>\n",
       "      <th>DAY_OF_MONTH</th>\n",
       "      <th>DAY_OF_WEEK</th>\n",
       "      <th>FLIGHT_NUM</th>\n",
       "      <th>ORIGIN</th>\n",
       "      <th>DEST</th>\n",
       "      <th>SCHEDULED_DEP_TIME</th>\n",
       "      <th>ACTUAL_DEP_TIME</th>\n",
       "      <th>SCHEDULED_ARR_TIME</th>\n",
       "      <th>ACTUAL_ARR_TIME</th>\n",
       "      <th>DISTANCE</th>\n",
       "      <th>ARR_DELAY</th>\n",
       "      <th>DELAY</th>\n",
       "    </tr>\n",
       "  </thead>\n",
       "  <tbody>\n",
       "    <tr>\n",
       "      <th>0</th>\n",
       "      <td>2016</td>\n",
       "      <td>1</td>\n",
       "      <td>1</td>\n",
       "      <td>5</td>\n",
       "      <td>1399</td>\n",
       "      <td>0</td>\n",
       "      <td>4</td>\n",
       "      <td>1905</td>\n",
       "      <td>1907.0</td>\n",
       "      <td>2143</td>\n",
       "      <td>2102.0</td>\n",
       "      <td>2182</td>\n",
       "      <td>-41.0</td>\n",
       "      <td>0</td>\n",
       "    </tr>\n",
       "    <tr>\n",
       "      <th>1</th>\n",
       "      <td>2016</td>\n",
       "      <td>1</td>\n",
       "      <td>1</td>\n",
       "      <td>5</td>\n",
       "      <td>1476</td>\n",
       "      <td>1</td>\n",
       "      <td>3</td>\n",
       "      <td>1345</td>\n",
       "      <td>1344.0</td>\n",
       "      <td>1435</td>\n",
       "      <td>1439.0</td>\n",
       "      <td>528</td>\n",
       "      <td>4.0</td>\n",
       "      <td>0</td>\n",
       "    </tr>\n",
       "    <tr>\n",
       "      <th>2</th>\n",
       "      <td>2016</td>\n",
       "      <td>1</td>\n",
       "      <td>1</td>\n",
       "      <td>5</td>\n",
       "      <td>1597</td>\n",
       "      <td>0</td>\n",
       "      <td>4</td>\n",
       "      <td>940</td>\n",
       "      <td>942.0</td>\n",
       "      <td>1215</td>\n",
       "      <td>1142.0</td>\n",
       "      <td>2182</td>\n",
       "      <td>-33.0</td>\n",
       "      <td>0</td>\n",
       "    </tr>\n",
       "    <tr>\n",
       "      <th>3</th>\n",
       "      <td>2016</td>\n",
       "      <td>1</td>\n",
       "      <td>1</td>\n",
       "      <td>5</td>\n",
       "      <td>1768</td>\n",
       "      <td>4</td>\n",
       "      <td>3</td>\n",
       "      <td>819</td>\n",
       "      <td>820.0</td>\n",
       "      <td>1335</td>\n",
       "      <td>1345.0</td>\n",
       "      <td>1399</td>\n",
       "      <td>10.0</td>\n",
       "      <td>0</td>\n",
       "    </tr>\n",
       "    <tr>\n",
       "      <th>4</th>\n",
       "      <td>2016</td>\n",
       "      <td>1</td>\n",
       "      <td>1</td>\n",
       "      <td>5</td>\n",
       "      <td>1823</td>\n",
       "      <td>4</td>\n",
       "      <td>1</td>\n",
       "      <td>2300</td>\n",
       "      <td>2256.0</td>\n",
       "      <td>607</td>\n",
       "      <td>615.0</td>\n",
       "      <td>1927</td>\n",
       "      <td>8.0</td>\n",
       "      <td>0</td>\n",
       "    </tr>\n",
       "  </tbody>\n",
       "</table>\n",
       "</div>"
      ],
      "text/plain": [
       "   YEAR  MONTH  DAY_OF_MONTH  DAY_OF_WEEK  FLIGHT_NUM  ORIGIN  DEST  \\\n",
       "0  2016      1             1            5        1399       0     4   \n",
       "1  2016      1             1            5        1476       1     3   \n",
       "2  2016      1             1            5        1597       0     4   \n",
       "3  2016      1             1            5        1768       4     3   \n",
       "4  2016      1             1            5        1823       4     1   \n",
       "\n",
       "   SCHEDULED_DEP_TIME  ACTUAL_DEP_TIME  SCHEDULED_ARR_TIME  ACTUAL_ARR_TIME  \\\n",
       "0                1905           1907.0                2143           2102.0   \n",
       "1                1345           1344.0                1435           1439.0   \n",
       "2                 940            942.0                1215           1142.0   \n",
       "3                 819            820.0                1335           1345.0   \n",
       "4                2300           2256.0                 607            615.0   \n",
       "\n",
       "   DISTANCE  ARR_DELAY  DELAY  \n",
       "0      2182      -41.0      0  \n",
       "1       528        4.0      0  \n",
       "2      2182      -33.0      0  \n",
       "3      1399       10.0      0  \n",
       "4      1927        8.0      0  "
      ]
     },
     "execution_count": 18,
     "metadata": {},
     "output_type": "execute_result"
    }
   ],
   "source": [
    "dataset.head(5)"
   ]
  },
  {
   "cell_type": "markdown",
   "metadata": {},
   "source": [
    "#### Splitting input,output data  & One Hot Encoding"
   ]
  },
  {
   "cell_type": "code",
   "execution_count": 19,
   "metadata": {},
   "outputs": [],
   "source": [
    "x=dataset.iloc[:,0:13].values\n",
    "y=dataset.iloc[:,13:14].values"
   ]
  },
  {
   "cell_type": "code",
   "execution_count": 20,
   "metadata": {},
   "outputs": [
    {
     "name": "stdout",
     "output_type": "stream",
     "text": [
      "(11231, 13)\n",
      "(11231, 1)\n"
     ]
    }
   ],
   "source": [
    "print(x.shape)\n",
    "print(y.shape)"
   ]
  },
  {
   "cell_type": "code",
   "execution_count": 21,
   "metadata": {},
   "outputs": [
    {
     "data": {
      "text/html": [
       "<div>\n",
       "<style scoped>\n",
       "    .dataframe tbody tr th:only-of-type {\n",
       "        vertical-align: middle;\n",
       "    }\n",
       "\n",
       "    .dataframe tbody tr th {\n",
       "        vertical-align: top;\n",
       "    }\n",
       "\n",
       "    .dataframe thead th {\n",
       "        text-align: right;\n",
       "    }\n",
       "</style>\n",
       "<table border=\"1\" class=\"dataframe\">\n",
       "  <thead>\n",
       "    <tr style=\"text-align: right;\">\n",
       "      <th></th>\n",
       "      <th>YEAR</th>\n",
       "      <th>MONTH</th>\n",
       "      <th>DAY_OF_MONTH</th>\n",
       "      <th>DAY_OF_WEEK</th>\n",
       "      <th>FLIGHT_NUM</th>\n",
       "      <th>ORIGIN</th>\n",
       "      <th>DEST</th>\n",
       "      <th>SCHEDULED_DEP_TIME</th>\n",
       "      <th>ACTUAL_DEP_TIME</th>\n",
       "      <th>SCHEDULED_ARR_TIME</th>\n",
       "      <th>ACTUAL_ARR_TIME</th>\n",
       "      <th>DISTANCE</th>\n",
       "      <th>ARR_DELAY</th>\n",
       "      <th>DELAY</th>\n",
       "    </tr>\n",
       "  </thead>\n",
       "  <tbody>\n",
       "    <tr>\n",
       "      <th>0</th>\n",
       "      <td>2016</td>\n",
       "      <td>1</td>\n",
       "      <td>1</td>\n",
       "      <td>5</td>\n",
       "      <td>1399</td>\n",
       "      <td>0</td>\n",
       "      <td>4</td>\n",
       "      <td>1905</td>\n",
       "      <td>1907.0</td>\n",
       "      <td>2143</td>\n",
       "      <td>2102.0</td>\n",
       "      <td>2182</td>\n",
       "      <td>-41.0</td>\n",
       "      <td>0</td>\n",
       "    </tr>\n",
       "  </tbody>\n",
       "</table>\n",
       "</div>"
      ],
      "text/plain": [
       "   YEAR  MONTH  DAY_OF_MONTH  DAY_OF_WEEK  FLIGHT_NUM  ORIGIN  DEST  \\\n",
       "0  2016      1             1            5        1399       0     4   \n",
       "\n",
       "   SCHEDULED_DEP_TIME  ACTUAL_DEP_TIME  SCHEDULED_ARR_TIME  ACTUAL_ARR_TIME  \\\n",
       "0                1905           1907.0                2143           2102.0   \n",
       "\n",
       "   DISTANCE  ARR_DELAY  DELAY  \n",
       "0      2182      -41.0      0  "
      ]
     },
     "execution_count": 21,
     "metadata": {},
     "output_type": "execute_result"
    }
   ],
   "source": [
    "dataset.head(1)"
   ]
  },
  {
   "cell_type": "code",
   "execution_count": 22,
   "metadata": {},
   "outputs": [],
   "source": [
    "from sklearn.preprocessing import OneHotEncoder\n",
    "one=OneHotEncoder()\n",
    "a=one.fit_transform(x[:,5:6]).toarray()\n",
    "b=one.fit_transform(x[:,6:7]).toarray()\n",
    "x=np.delete(x,[5,6],axis=1)\n",
    "x=np.concatenate((b,a,x),axis=1)"
   ]
  },
  {
   "cell_type": "code",
   "execution_count": 23,
   "metadata": {},
   "outputs": [
    {
     "data": {
      "text/plain": [
       "(11231, 21)"
      ]
     },
     "execution_count": 23,
     "metadata": {},
     "output_type": "execute_result"
    }
   ],
   "source": [
    "x.shape"
   ]
  },
  {
   "cell_type": "markdown",
   "metadata": {},
   "source": [
    "#### Splitting Data into Train and Test"
   ]
  },
  {
   "cell_type": "code",
   "execution_count": 24,
   "metadata": {},
   "outputs": [],
   "source": [
    "from sklearn.model_selection import train_test_split\n",
    "x_train,x_test,y_train,y_test=train_test_split(x,y,test_size=0.3,random_state=0)"
   ]
  },
  {
   "cell_type": "code",
   "execution_count": 25,
   "metadata": {},
   "outputs": [
    {
     "data": {
      "text/plain": [
       "(7861, 21)"
      ]
     },
     "execution_count": 25,
     "metadata": {},
     "output_type": "execute_result"
    }
   ],
   "source": [
    "x_train.shape"
   ]
  },
  {
   "cell_type": "code",
   "execution_count": 26,
   "metadata": {},
   "outputs": [
    {
     "data": {
      "text/plain": [
       "(3370, 21)"
      ]
     },
     "execution_count": 26,
     "metadata": {},
     "output_type": "execute_result"
    }
   ],
   "source": [
    "x_test.shape"
   ]
  },
  {
   "cell_type": "markdown",
   "metadata": {},
   "source": [
    "#### Feature Scaling"
   ]
  },
  {
   "cell_type": "code",
   "execution_count": 27,
   "metadata": {},
   "outputs": [],
   "source": [
    "from sklearn.preprocessing import StandardScaler\n",
    "sc=StandardScaler()\n",
    "x_train=sc.fit_transform(x_train)\n",
    "x_test=sc.fit_transform(x_test)"
   ]
  },
  {
   "cell_type": "markdown",
   "metadata": {},
   "source": [
    "# 3.Model Building"
   ]
  },
  {
   "cell_type": "markdown",
   "metadata": {},
   "source": [
    "### Decision Tree Classifier"
   ]
  },
  {
   "cell_type": "code",
   "execution_count": 28,
   "metadata": {},
   "outputs": [
    {
     "data": {
      "text/plain": [
       "DecisionTreeClassifier(ccp_alpha=0.0, class_weight=None, criterion='entropy',\n",
       "                       max_depth=None, max_features=None, max_leaf_nodes=None,\n",
       "                       min_impurity_decrease=0.0, min_impurity_split=None,\n",
       "                       min_samples_leaf=1, min_samples_split=2,\n",
       "                       min_weight_fraction_leaf=0.0, presort='deprecated',\n",
       "                       random_state=43, splitter='best')"
      ]
     },
     "execution_count": 28,
     "metadata": {},
     "output_type": "execute_result"
    }
   ],
   "source": [
    "from sklearn.tree import DecisionTreeClassifier\n",
    "dtc=DecisionTreeClassifier(criterion=\"entropy\",random_state=43)\n",
    "dtc.fit(x_train,y_train)"
   ]
  },
  {
   "cell_type": "markdown",
   "metadata": {},
   "source": [
    "### Evaluation"
   ]
  },
  {
   "cell_type": "code",
   "execution_count": 29,
   "metadata": {},
   "outputs": [],
   "source": [
    "y_pred=dtc.predict(x_test)"
   ]
  },
  {
   "cell_type": "code",
   "execution_count": 30,
   "metadata": {},
   "outputs": [
    {
     "data": {
      "text/plain": [
       "array([[1],\n",
       "       [0],\n",
       "       [0],\n",
       "       ...,\n",
       "       [0],\n",
       "       [0],\n",
       "       [0]])"
      ]
     },
     "execution_count": 30,
     "metadata": {},
     "output_type": "execute_result"
    }
   ],
   "source": [
    "y_test"
   ]
  },
  {
   "cell_type": "code",
   "execution_count": 31,
   "metadata": {},
   "outputs": [
    {
     "data": {
      "text/plain": [
       "array([1, 0, 0, ..., 0, 0, 0])"
      ]
     },
     "execution_count": 31,
     "metadata": {},
     "output_type": "execute_result"
    }
   ],
   "source": [
    "y_pred"
   ]
  },
  {
   "cell_type": "code",
   "execution_count": 32,
   "metadata": {},
   "outputs": [],
   "source": [
    "from sklearn.metrics import accuracy_score\n",
    "flight_Delay_accuracy=accuracy_score(y_test,y_pred)"
   ]
  },
  {
   "cell_type": "code",
   "execution_count": 33,
   "metadata": {},
   "outputs": [
    {
     "data": {
      "text/plain": [
       "0.98486646884273"
      ]
     },
     "execution_count": 33,
     "metadata": {},
     "output_type": "execute_result"
    }
   ],
   "source": [
    "flight_Delay_accuracy"
   ]
  },
  {
   "cell_type": "code",
   "execution_count": 34,
   "metadata": {},
   "outputs": [],
   "source": [
    "from sklearn.metrics import confusion_matrix\n",
    "cm=confusion_matrix(y_test,y_pred)"
   ]
  },
  {
   "cell_type": "code",
   "execution_count": 35,
   "metadata": {},
   "outputs": [
    {
     "data": {
      "text/plain": [
       "array([[2961,    0],\n",
       "       [  51,  358]], dtype=int64)"
      ]
     },
     "execution_count": 35,
     "metadata": {},
     "output_type": "execute_result"
    }
   ],
   "source": [
    "cm"
   ]
  },
  {
   "cell_type": "code",
   "execution_count": 36,
   "metadata": {},
   "outputs": [],
   "source": [
    "import sklearn.metrics as metrics\n",
    "fpr,tpr,threshold = metrics.roc_curve(y_test,y_pred)\n",
    "roc_auc = metrics.auc(fpr,tpr)"
   ]
  },
  {
   "cell_type": "code",
   "execution_count": 37,
   "metadata": {},
   "outputs": [
    {
     "data": {
      "text/plain": [
       "array([2, 1, 0])"
      ]
     },
     "execution_count": 37,
     "metadata": {},
     "output_type": "execute_result"
    }
   ],
   "source": [
    "threshold"
   ]
  },
  {
   "cell_type": "code",
   "execution_count": 38,
   "metadata": {},
   "outputs": [
    {
     "data": {
      "text/plain": [
       "array([0., 0., 1.])"
      ]
     },
     "execution_count": 38,
     "metadata": {},
     "output_type": "execute_result"
    }
   ],
   "source": [
    "fpr"
   ]
  },
  {
   "cell_type": "code",
   "execution_count": 39,
   "metadata": {},
   "outputs": [
    {
     "data": {
      "text/plain": [
       "array([0.        , 0.87530562, 1.        ])"
      ]
     },
     "execution_count": 39,
     "metadata": {},
     "output_type": "execute_result"
    }
   ],
   "source": [
    "tpr"
   ]
  },
  {
   "cell_type": "code",
   "execution_count": 40,
   "metadata": {},
   "outputs": [
    {
     "data": {
      "text/plain": [
       "Text(0.5, 0, 'fpr')"
      ]
     },
     "execution_count": 40,
     "metadata": {},
     "output_type": "execute_result"
    },
    {
     "data": {
      "image/png": "[encoded data removed]",
      "text/plain": [
       "<Figure size 432x288 with 1 Axes>"
      ]
     },
     "metadata": {
      "needs_background": "light"
     },
     "output_type": "display_data"
    }
   ],
   "source": [
    "plt.title(\"roc\")\n",
    "plt.plot(fpr,tpr,'b',label = 'auc = %0.3f'%roc_auc)\n",
    "plt.legend(loc = 'lower right')\n",
    "plt.plot([0,1],[0,1],'r--')\n",
    "plt.xlim([0,1])\n",
    "plt.ylim([0,1])\n",
    "plt.ylabel('tpr')\n",
    "plt.xlabel('fpr')"
   ]
  },
  {
   "cell_type": "code",
   "execution_count": 41,
   "metadata": {},
   "outputs": [
    {
     "data": {
      "text/html": [
       "<div>\n",
       "<style scoped>\n",
       "    .dataframe tbody tr th:only-of-type {\n",
       "        vertical-align: middle;\n",
       "    }\n",
       "\n",
       "    .dataframe tbody tr th {\n",
       "        vertical-align: top;\n",
       "    }\n",
       "\n",
       "    .dataframe thead th {\n",
       "        text-align: right;\n",
       "    }\n",
       "</style>\n",
       "<table border=\"1\" class=\"dataframe\">\n",
       "  <thead>\n",
       "    <tr style=\"text-align: right;\">\n",
       "      <th></th>\n",
       "      <th>YEAR</th>\n",
       "      <th>MONTH</th>\n",
       "      <th>DAY_OF_MONTH</th>\n",
       "      <th>DAY_OF_WEEK</th>\n",
       "      <th>FLIGHT_NUM</th>\n",
       "      <th>ORIGIN</th>\n",
       "      <th>DEST</th>\n",
       "      <th>SCHEDULED_DEP_TIME</th>\n",
       "      <th>ACTUAL_DEP_TIME</th>\n",
       "      <th>SCHEDULED_ARR_TIME</th>\n",
       "      <th>ACTUAL_ARR_TIME</th>\n",
       "      <th>DISTANCE</th>\n",
       "      <th>ARR_DELAY</th>\n",
       "      <th>DELAY</th>\n",
       "    </tr>\n",
       "  </thead>\n",
       "  <tbody>\n",
       "    <tr>\n",
       "      <th>0</th>\n",
       "      <td>2016</td>\n",
       "      <td>1</td>\n",
       "      <td>1</td>\n",
       "      <td>5</td>\n",
       "      <td>1399</td>\n",
       "      <td>0</td>\n",
       "      <td>4</td>\n",
       "      <td>1905</td>\n",
       "      <td>1907.0</td>\n",
       "      <td>2143</td>\n",
       "      <td>2102.0</td>\n",
       "      <td>2182</td>\n",
       "      <td>-41.0</td>\n",
       "      <td>0</td>\n",
       "    </tr>\n",
       "  </tbody>\n",
       "</table>\n",
       "</div>"
      ],
      "text/plain": [
       "   YEAR  MONTH  DAY_OF_MONTH  DAY_OF_WEEK  FLIGHT_NUM  ORIGIN  DEST  \\\n",
       "0  2016      1             1            5        1399       0     4   \n",
       "\n",
       "   SCHEDULED_DEP_TIME  ACTUAL_DEP_TIME  SCHEDULED_ARR_TIME  ACTUAL_ARR_TIME  \\\n",
       "0                1905           1907.0                2143           2102.0   \n",
       "\n",
       "   DISTANCE  ARR_DELAY  DELAY  \n",
       "0      2182      -41.0      0  "
      ]
     },
     "execution_count": 41,
     "metadata": {},
     "output_type": "execute_result"
    }
   ],
   "source": [
    "dataset.head(1)"
   ]
  },
  {
   "cell_type": "markdown",
   "metadata": {},
   "source": [
    "#### Prediction for the first row inputs\n"
   ]
  },
  {
   "cell_type": "code",
   "execution_count": 42,
   "metadata": {},
   "outputs": [],
   "source": [
    "y_p=dtc.predict(sc.transform([[0,0,0,0,1,1,0,0,0,0,2016,1,1,5,1399,1905,1907,2143,2102,2182,-41]]))"
   ]
  },
  {
   "cell_type": "code",
   "execution_count": 43,
   "metadata": {},
   "outputs": [
    {
     "data": {
      "text/plain": [
       "array([0])"
      ]
     },
     "execution_count": 43,
     "metadata": {},
     "output_type": "execute_result"
    }
   ],
   "source": [
    "y_p"
   ]
  },
  {
   "cell_type": "markdown",
   "metadata": {},
   "source": [
    "#### Random values prediction"
   ]
  },
  {
   "cell_type": "code",
   "execution_count": 44,
   "metadata": {},
   "outputs": [
    {
     "data": {
      "text/plain": [
       "array([0])"
      ]
     },
     "execution_count": 44,
     "metadata": {},
     "output_type": "execute_result"
    }
   ],
   "source": [
    "y=dtc.predict(sc.transform([[1,0,0,0,0,0,1,0,0,0,2018,2,4,5,334423,1234,1250,2110,2120,1313,10]]))\n",
    "y"
   ]
  },
  {
   "cell_type": "code",
   "execution_count": 45,
   "metadata": {},
   "outputs": [
    {
     "data": {
      "text/plain": [
       "array([1])"
      ]
     },
     "execution_count": 45,
     "metadata": {},
     "output_type": "execute_result"
    }
   ],
   "source": [
    "y1=dtc.predict(sc.transform([[0,0,1,0,0,0,0,1,0,0,2018,2,4,5,56563,1234,1250,2110,2140,1313,30]]))\n",
    "y1"
   ]
  },
  {
   "cell_type": "markdown",
   "metadata": {},
   "source": [
    "##### Let's compare this algorithm with logistic regression"
   ]
  },
  {
   "cell_type": "markdown",
   "metadata": {},
   "source": [
    "## Logistic Regression"
   ]
  },
  {
   "cell_type": "code",
   "execution_count": 46,
   "metadata": {},
   "outputs": [
    {
     "name": "stderr",
     "output_type": "stream",
     "text": [
      "C:\\Users\\91898\\anaconda3\\lib\\site-packages\\sklearn\\utils\\validation.py:760: DataConversionWarning: A column-vector y was passed when a 1d array was expected. Please change the shape of y to (n_samples, ), for example using ravel().\n",
      "  y = column_or_1d(y, warn=True)\n"
     ]
    },
    {
     "data": {
      "text/plain": [
       "LogisticRegression(C=1.0, class_weight=None, dual=False, fit_intercept=True,\n",
       "                   intercept_scaling=1, l1_ratio=None, max_iter=100,\n",
       "                   multi_class='auto', n_jobs=None, penalty='l2',\n",
       "                   random_state=None, solver='lbfgs', tol=0.0001, verbose=0,\n",
       "                   warm_start=False)"
      ]
     },
     "execution_count": 46,
     "metadata": {},
     "output_type": "execute_result"
    }
   ],
   "source": [
    "from sklearn.linear_model import LogisticRegression\n",
    "lr=LogisticRegression()\n",
    "lr.fit(x_train,y_train)"
   ]
  },
  {
   "cell_type": "markdown",
   "metadata": {},
   "source": [
    "### Evaluation"
   ]
  },
  {
   "cell_type": "code",
   "execution_count": 47,
   "metadata": {},
   "outputs": [],
   "source": [
    "y_pred2=lr.predict(x_test)"
   ]
  },
  {
   "cell_type": "code",
   "execution_count": 48,
   "metadata": {},
   "outputs": [],
   "source": [
    "log_accuracy=accuracy_score(y_test,y_pred2)"
   ]
  },
  {
   "cell_type": "code",
   "execution_count": 49,
   "metadata": {},
   "outputs": [
    {
     "data": {
      "text/plain": [
       "0.9845697329376855"
      ]
     },
     "execution_count": 49,
     "metadata": {},
     "output_type": "execute_result"
    }
   ],
   "source": [
    "log_accuracy"
   ]
  },
  {
   "cell_type": "code",
   "execution_count": 50,
   "metadata": {},
   "outputs": [],
   "source": [
    "cm2=confusion_matrix(y_test,y_pred2)"
   ]
  },
  {
   "cell_type": "code",
   "execution_count": 51,
   "metadata": {},
   "outputs": [
    {
     "data": {
      "text/plain": [
       "array([[2961,    0],\n",
       "       [  52,  357]], dtype=int64)"
      ]
     },
     "execution_count": 51,
     "metadata": {},
     "output_type": "execute_result"
    }
   ],
   "source": [
    "cm2"
   ]
  },
  {
   "cell_type": "code",
   "execution_count": 52,
   "metadata": {},
   "outputs": [],
   "source": [
    "fpr2,tpr2,threshold=metrics.roc_curve(y_test,y_pred2)\n",
    "roc_auc2=metrics.auc(fpr2,tpr2)"
   ]
  },
  {
   "cell_type": "code",
   "execution_count": 53,
   "metadata": {},
   "outputs": [
    {
     "data": {
      "text/plain": [
       "Text(0.5, 0, 'False positive rate (fpr2)')"
      ]
     },
     "execution_count": 53,
     "metadata": {},
     "output_type": "execute_result"
    },
    {
     "data": {
      "image/png": "[encoded data removed]",
      "text/plain": [
       "<Figure size 432x288 with 1 Axes>"
      ]
     },
     "metadata": {
      "needs_background": "light"
     },
     "output_type": "display_data"
    }
   ],
   "source": [
    "plt.title(\"roc logistic\")\n",
    "plt.plot(fpr2,tpr2,'b',label='auc = %f'%roc_auc2)\n",
    "plt.legend(loc=\"lower right\")\n",
    "plt.plot([0,1], [0,1], 'r--')\n",
    "plt.xlim([0,1])\n",
    "plt.ylim([0,1])\n",
    "plt.ylabel('True positive rate (tpr2)')\n",
    "plt.xlabel('False positive rate (fpr2)')"
   ]
  },
  {
   "cell_type": "markdown",
   "metadata": {},
   "source": [
    "#### Comparing both the accuracy and roc_auc curve of the models\n",
    "#### Decisiontree=98.48 , auc=0.938\n",
    "#### LogisticRegression=98.45 ,auc=0.936\n",
    "#### There is subtle difference between the both models,so we can consider any of them."
   ]
  },
  {
   "cell_type": "code",
   "execution_count": null,
   "metadata": {},
   "outputs": [],
   "source": []
  }
 ],
 "metadata": {
  "kernelspec": {
   "display_name": "Python 3",
   "language": "python",
   "name": "python3"
  },
  "language_info": {
   "codemirror_mode": {
    "name": "ipython",
    "version": 3
   },
   "file_extension": ".py",
   "mimetype": "text/x-python",
   "name": "python",
   "nbconvert_exporter": "python",
   "pygments_lexer": "ipython3",
   "version": "3.7.6"
  }
 },
 "nbformat": 4,
 "nbformat_minor": 4
}
